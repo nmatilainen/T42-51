{
 "cells": [
  {
   "cell_type": "code",
   "execution_count": 25,
   "metadata": {},
   "outputs": [],
   "source": [
    "#Teht 41\n",
    "\n",
    "import math\n",
    "\n",
    "def poissonJakauma(lambd, k):\n",
    "    return (math.exp(-lambd) * (lambd**k)) / math.factorial(k)"
   ]
  },
  {
   "cell_type": "code",
   "execution_count": 26,
   "metadata": {},
   "outputs": [],
   "source": [
    "levyt = 900\n",
    "\n",
    "vikaTodNak = 0.007\n",
    "\n",
    "lambd = levyt * vikaTodNak"
   ]
  },
  {
   "cell_type": "code",
   "execution_count": 27,
   "metadata": {},
   "outputs": [
    {
     "name": "stdout",
     "output_type": "stream",
     "text": [
      "Todennäköisyys, että 7 levyohjainta vikaantuu viikossa: 0.14351525722870512\n"
     ]
    }
   ],
   "source": [
    "#A\n",
    "\n",
    "k1 = 7\n",
    "todNakA = poissonJakauma(lambd, k1)\n",
    "print(\"Todennäköisyys, että 7 levyohjainta vikaantuu viikossa:\", todNakA)"
   ]
  },
  {
   "cell_type": "code",
   "execution_count": 28,
   "metadata": {},
   "outputs": [
    {
     "name": "stdout",
     "output_type": "stream",
     "text": [
      "Todennäköisyys, että enemmän kuin 3 levyohjainta vikaantuu viikossa: 0.8736264233972592\n"
     ]
    }
   ],
   "source": [
    "#B\n",
    "\n",
    "todNakB = 1 - sum(poissonJakauma(lambd, k) for k in range(4))\n",
    "print(\"Todennäköisyys, että enemmän kuin 3 levyohjainta vikaantuu viikossa:\", todNakB)"
   ]
  },
  {
   "cell_type": "code",
   "execution_count": 29,
   "metadata": {},
   "outputs": [
    {
     "name": "stdout",
     "output_type": "stream",
     "text": [
      "Todennäköisyys, että 4 tai useampi auto saapuu annetun minuutin aikana: 0.14287653950145285\n"
     ]
    }
   ],
   "source": [
    "#Teht 43\n",
    "\n",
    "#Käytetään taas poisson jakaumaa\n",
    "\n",
    "lambd = 2\n",
    "\n",
    "k = 4\n",
    "\n",
    "todNak43 = 1 - sum(poissonJakauma(lambd, i) for i in range(k))\n",
    "\n",
    "print(\"Todennäköisyys, että 4 tai useampi auto saapuu annetun minuutin aikana:\", todNak43)"
   ]
  },
  {
   "cell_type": "code",
   "execution_count": 30,
   "metadata": {},
   "outputs": [
    {
     "name": "stdout",
     "output_type": "stream",
     "text": [
      "Todennäköisyys, että vähemmän kuin kaksi tietokonetta menee rikki kuukauden aikana: 0.7357588823428847\n"
     ]
    }
   ],
   "source": [
    "#Teht 44\n",
    "\n",
    "#Taas poisson jakaumaa käyttäen\n",
    "\n",
    "lambd = 1\n",
    "\n",
    "k = 2\n",
    "\n",
    "todNak44 = sum(poissonJakauma(lambd, i) for i in range(k))\n",
    "\n",
    "print(\"Todennäköisyys, että vähemmän kuin kaksi tietokonetta menee rikki kuukauden aikana:\", todNak44)"
   ]
  },
  {
   "cell_type": "code",
   "execution_count": 31,
   "metadata": {},
   "outputs": [],
   "source": [
    "#Teht 45\n",
    "\n",
    "from scipy.stats import norm"
   ]
  },
  {
   "cell_type": "code",
   "execution_count": 32,
   "metadata": {},
   "outputs": [
    {
     "name": "stdout",
     "output_type": "stream",
     "text": [
      "Todennäköisyys P(z <= 0.25): 0.5987063256829237\n"
     ]
    }
   ],
   "source": [
    "#A\n",
    "\n",
    "todNak45A = norm.cdf(0.25)\n",
    "print(\"Todennäköisyys P(z <= 0.25):\", todNak45A)"
   ]
  },
  {
   "cell_type": "code",
   "execution_count": 33,
   "metadata": {},
   "outputs": [
    {
     "name": "stdout",
     "output_type": "stream",
     "text": [
      "Todennäköisyys P(1.2 <= z <= 2.1): 0.09720524965889166\n"
     ]
    }
   ],
   "source": [
    "#B\n",
    "\n",
    "todNak45B = norm.cdf(2.1) - norm.cdf(1.2)\n",
    "print(\"Todennäköisyys P(1.2 <= z <= 2.1):\", todNak45B)"
   ]
  },
  {
   "cell_type": "code",
   "execution_count": 34,
   "metadata": {},
   "outputs": [
    {
     "name": "stdout",
     "output_type": "stream",
     "text": [
      "Todennäköisyys P(-1 <= z <= 1.5): 0.7745375447996848\n"
     ]
    }
   ],
   "source": [
    "#C\n",
    "\n",
    "todNak45C = norm.cdf(1.5) - norm.cdf(-1)\n",
    "print(\"Todennäköisyys P(-1 <= z <= 1.5):\", todNak45C)"
   ]
  },
  {
   "cell_type": "code",
   "execution_count": 35,
   "metadata": {},
   "outputs": [
    {
     "name": "stdout",
     "output_type": "stream",
     "text": [
      "Todennäköisyys P(7 <= x <= 12.2): 0.7150682629225327\n"
     ]
    }
   ],
   "source": [
    "#Teht 46\n",
    "\n",
    "odArvo = 8\n",
    "keskHajonta = 1.7\n",
    "\n",
    "alaRaja = 7\n",
    "ylaRaja = 12.2\n",
    "\n",
    "# odArvounnetaan rajat z-pisteiksi\n",
    "zAla = (alaRaja - odArvo) / keskHajonta\n",
    "zYla = (ylaRaja - odArvo) / keskHajonta\n",
    "\n",
    "todNak46 = norm.cdf(zYla) - norm.cdf(zAla)\n",
    "print(\"Todennäköisyys P(7 <= x <= 12.2):\", todNak46)"
   ]
  },
  {
   "cell_type": "code",
   "execution_count": 36,
   "metadata": {},
   "outputs": [
    {
     "name": "stdout",
     "output_type": "stream",
     "text": [
      "Toimivien akkujen määrä viiden vuoden kuluttua: 335\n"
     ]
    }
   ],
   "source": [
    "from scipy.stats import norm\n",
    "\n",
    "odArvo47 = 3\n",
    "keskHajonta47 = 1.2\n",
    "\n",
    "z = (5 - odArvo47) / keskHajonta47\n",
    "\n",
    "todNak47 = 1 - norm.cdf(z)\n",
    "\n",
    "valmEra = 7000\n",
    "\n",
    "toimivatAkut = todNak47 * valmEra\n",
    "\n",
    "print(\"Toimivien akkujen määrä viiden vuoden kuluttua:\", round(toimivatAkut))\n"
   ]
  },
  {
   "cell_type": "code",
   "execution_count": 37,
   "metadata": {},
   "outputs": [
    {
     "name": "stdout",
     "output_type": "stream",
     "text": [
      "Prosenttiosuus miehistä, jotka ovat yli 2 m pitkiä: 0.09 %\n"
     ]
    }
   ],
   "source": [
    "#Teht 48\n",
    "\n",
    "odArvo48 = 175\n",
    "keskHajonta48 = 8\n",
    "\n",
    "z = (200 - odArvo48) / keskHajonta48\n",
    "\n",
    "todNak48 = 1 - norm.cdf(z)\n",
    "\n",
    "prosentuaalinen = todNak48 * 100\n",
    "\n",
    "print(\"Prosenttiosuus miehistä, jotka ovat yli 2 m pitkiä:\", round(prosentuaalinen, 2), \"%\")"
   ]
  },
  {
   "cell_type": "code",
   "execution_count": 38,
   "metadata": {},
   "outputs": [],
   "source": [
    "#Teht 49\n",
    "\n",
    "odArvo49 = 80\n",
    "keskHajonta49 = 4"
   ]
  },
  {
   "cell_type": "code",
   "execution_count": 39,
   "metadata": {},
   "outputs": [
    {
     "name": "stdout",
     "output_type": "stream",
     "text": [
      "Todennäköisyys, että tuotteen paino on 77 kg ... 80 kg: 0.2734\n"
     ]
    }
   ],
   "source": [
    "# A\n",
    "\n",
    "alaRajaA = 77\n",
    "ylaRajaA = 80\n",
    "todNak49A = norm.cdf(ylaRajaA, odArvo49, keskHajonta49) - norm.cdf(alaRajaA, odArvo49, keskHajonta49)\n",
    "print(\"Todennäköisyys, että tuotteen paino on 77 kg ... 80 kg:\", round(todNak49A, 4))"
   ]
  },
  {
   "cell_type": "code",
   "execution_count": 40,
   "metadata": {},
   "outputs": [
    {
     "name": "stdout",
     "output_type": "stream",
     "text": [
      "Todennäköisyys, että tuotteen paino on yli 80 kg: 0.5\n"
     ]
    }
   ],
   "source": [
    "# B\n",
    "\n",
    "todNak49B = 1 - norm.cdf(80, odArvo49, keskHajonta49)\n",
    "print(\"Todennäköisyys, että tuotteen paino on yli 80 kg:\", round(todNak49B, 4))"
   ]
  },
  {
   "cell_type": "code",
   "execution_count": 41,
   "metadata": {},
   "outputs": [],
   "source": [
    "# Teht 50\n",
    "\n",
    "odArvo50 = 5\n",
    "varianssi = 0.04\n",
    "\n",
    "standardiPoikkeama = varianssi**0.5"
   ]
  },
  {
   "cell_type": "code",
   "execution_count": 42,
   "metadata": {},
   "outputs": [
    {
     "name": "stdout",
     "output_type": "stream",
     "text": [
      "a) x, jolle P(X <= x) = 95%: 5.33\n"
     ]
    }
   ],
   "source": [
    "# A\n",
    "\n",
    "todNak50A = 0.95\n",
    "x50A = norm.ppf(todNak50A, odArvo50, standardiPoikkeama)\n",
    "print(\"a) x, jolle P(X <= x) = 95%:\", round(x50A, 2))"
   ]
  },
  {
   "cell_type": "code",
   "execution_count": 43,
   "metadata": {},
   "outputs": [
    {
     "name": "stdout",
     "output_type": "stream",
     "text": [
      "b) x, jolle P(X > x) = 1%: 5.47\n"
     ]
    }
   ],
   "source": [
    "# B\n",
    "\n",
    "todNak50B = 0.01\n",
    "x50B = norm.ppf(1 - todNak50B, odArvo50, standardiPoikkeama)\n",
    "print(\"b) x, jolle P(X > x) = 1%:\", round(x50B, 2))"
   ]
  },
  {
   "cell_type": "code",
   "execution_count": 44,
   "metadata": {},
   "outputs": [],
   "source": [
    "#Teht 51\n",
    "\n",
    "odArvo51 = 3\n",
    "keskHajonta51 = 0.1"
   ]
  },
  {
   "cell_type": "code",
   "execution_count": 45,
   "metadata": {},
   "outputs": [
    {
     "name": "stdout",
     "output_type": "stream",
     "text": [
      "a) Todennäköisyys, että vastuksen resistanssi on 2.9 Ω ... 3.05 Ω: 0.5328\n"
     ]
    }
   ],
   "source": [
    "# A\n",
    "\n",
    "alaRaja51A = 2.9\n",
    "ylaRaja51A = 3.05\n",
    "todNak51A = norm.cdf(ylaRaja51A, odArvo51, keskHajonta51) - norm.cdf(alaRaja51A, odArvo51, keskHajonta51)\n",
    "print(\"a) Todennäköisyys, että vastuksen resistanssi on 2.9 Ω ... 3.05 Ω:\", round(todNak51A, 4))"
   ]
  },
  {
   "cell_type": "code",
   "execution_count": 46,
   "metadata": {},
   "outputs": [
    {
     "name": "stdout",
     "output_type": "stream",
     "text": [
      "b) Todennäköisyys, että vastuksen resistanssi on yli 2.95 Ω: 0.6915\n"
     ]
    }
   ],
   "source": [
    "# B\n",
    "\n",
    "alaRaja51B = 2.95\n",
    "todNak51B = 1 - norm.cdf(alaRaja51B, odArvo51, keskHajonta51)\n",
    "print(\"b) Todennäköisyys, että vastuksen resistanssi on yli 2.95 Ω:\", round(todNak51B, 4))"
   ]
  },
  {
   "cell_type": "code",
   "execution_count": 47,
   "metadata": {},
   "outputs": [
    {
     "name": "stdout",
     "output_type": "stream",
     "text": [
      "c) Todennäköisyys, että vastuksen resistanssi on vähemmän kuin 2.83 Ω: 0.0446\n"
     ]
    }
   ],
   "source": [
    "# C\n",
    "\n",
    "ylaRaja51C = 2.83\n",
    "todNak51C = norm.cdf(ylaRaja51C, odArvo51, keskHajonta51)\n",
    "print(\"c) Todennäköisyys, että vastuksen resistanssi on vähemmän kuin 2.83 Ω:\", round(todNak51C, 4))"
   ]
  }
 ],
 "metadata": {
  "kernelspec": {
   "display_name": "Python 3",
   "language": "python",
   "name": "python3"
  },
  "language_info": {
   "codemirror_mode": {
    "name": "ipython",
    "version": 3
   },
   "file_extension": ".py",
   "mimetype": "text/x-python",
   "name": "python",
   "nbconvert_exporter": "python",
   "pygments_lexer": "ipython3",
   "version": "3.11.2"
  }
 },
 "nbformat": 4,
 "nbformat_minor": 2
}
